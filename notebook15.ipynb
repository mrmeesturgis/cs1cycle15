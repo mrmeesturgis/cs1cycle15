{
 "cells": [
  {
   "cell_type": "markdown",
   "id": "d8bba665",
   "metadata": {},
   "source": [
    "<img src=\"https://www.sturgischarterschool.com/wp-content/uploads/2019/06/sturgisheader_logo.png\" alt=\"sturgis\" width=\"250\" align=\"right\"/>\n",
    "\n",
    "## Computer Science 'Learned Much You Have' notebook 15\n",
    "### Sturgis Charter Public School \n",
    "\n"
   ]
  },
  {
   "cell_type": "markdown",
   "id": "681696fb",
   "metadata": {},
   "source": [
    "Student: [your name here]\n",
    "\n",
    "Collaborators: [N/A]\n",
    "\n",
    "Notes to the teacher: [N/A]"
   ]
  },
  {
   "cell_type": "markdown",
   "id": "39bfba09",
   "metadata": {},
   "source": [
    "Is this you?\n",
    "![Leanred](learned.jpeg)\n",
    "Or is this?\n",
    "![Not learned](notlearned.jpeg)\n",
    "\n",
    "Either way it's time for a little *solo* work. I hope you don't bight off more than you can *chew*. "
   ]
  },
  {
   "cell_type": "markdown",
   "id": "16bf0839",
   "metadata": {},
   "source": [
    "### Learning Objectives for notebook \n",
    "Pick a skill that you have learned in Computer Science and demonstrate it in a novel way. Options include:\n",
    "\n",
    "* Pandas!\n",
    "* GUI's\n",
    "* Flask and/or HTML\n",
    "* Abstract Data Structures, Linked Lists, Binary Trees\n",
    "* Webscraping/Beautiful Soup\n",
    "* Building a class\n",
    "* Random\n",
    "* Matplotlib\n",
    "* Datatypes such as Dictionaries. \n",
    "* Much, much more ! :D\n"
   ]
  },
  {
   "cell_type": "markdown",
   "id": "7de2e5a9",
   "metadata": {},
   "source": [
    "### What's unique about this notebook?\n",
    "\n",
    "This time your grade is based on a presentation of your notebook. This means that you need to build your notebook to show something listed above in a novel way, and you then need to create a powerpoint (or the like) that lasts for approximately 5 minutes, in which you demonstrate the following:\n",
    "\n",
    "* Your motivation for what you chose. \n",
    "* A flowchart or UML diagram. \n",
    "* Your code running. \n",
    "* A reflection of what went well, and what were challenges. \n",
    "* A discussion on how your program could be expanded and improved. \n",
    "\n",
    "Good luck!"
   ]
  },
  {
   "cell_type": "code",
   "execution_count": null,
   "id": "79f9543f",
   "metadata": {},
   "outputs": [],
   "source": []
  }
 ],
 "metadata": {
  "kernelspec": {
   "display_name": "Python 3 (ipykernel)",
   "language": "python",
   "name": "python3"
  },
  "language_info": {
   "codemirror_mode": {
    "name": "ipython",
    "version": 3
   },
   "file_extension": ".py",
   "mimetype": "text/x-python",
   "name": "python",
   "nbconvert_exporter": "python",
   "pygments_lexer": "ipython3",
   "version": "3.9.7"
  }
 },
 "nbformat": 4,
 "nbformat_minor": 5
}
